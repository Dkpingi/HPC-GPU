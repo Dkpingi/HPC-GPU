{
 "cells": [
  {
   "cell_type": "code",
   "execution_count": 1,
   "metadata": {},
   "outputs": [
    {
     "data": {
      "text/plain": [
       "<Figure size 640x480 with 1 Axes>"
      ]
     },
     "metadata": {},
     "output_type": "display_data"
    }
   ],
   "source": [
    "import matplotlib.pyplot as plt\n",
    "import csv\n",
    "from matplotlib.pyplot import figure\n",
    "\n",
    "\n",
    "# 5.1 Task 1\n",
    "BlockSize = []\n",
    "H2D = []\n",
    "D2H = []\n",
    "MatrixCalcDur = []\n",
    "OverallRuntime = []\n",
    "\n",
    "with open('5_2_01_benchmark.txt','r') as csvfile:\n",
    "    reader = csv.reader(csvfile, delimiter=',')\n",
    "    next(reader, None) \n",
    "    for row in reader:\n",
    "        BlockSize.append(int(row[1]))\n",
    "        H2D.append(float(row[2]))\n",
    "        D2H.append(float(row[3]))\n",
    "        MatrixCalcDur.append(float(row[5]))\n",
    "        OverallRuntime.append(float(row[2]) + float(row[3]) + float(row[5]))\n",
    "\n",
    "plt.plot(BlockSize, H2D, label='H2D')\n",
    "plt.plot(BlockSize, D2H, label='D2H')\n",
    "plt.plot(BlockSize, MatrixCalcDur, label='Matrix Calculation Time')\n",
    "plt.plot(BlockSize, OverallRuntime, label='Overall time')\n",
    "\n",
    "\n",
    "plt.xlabel('Block Size')\n",
    "plt.ylabel('Time [ms]')\n",
    "plt.title('Exc 5.2 Task 1 with Matrix Width = 1024')\n",
    "plt.legend()\n",
    "plt.savefig(\"5_2_01.png\")\n",
    "plt.show()"
   ]
  },
  {
   "cell_type": "code",
   "execution_count": null,
   "metadata": {},
   "outputs": [],
   "source": []
  },
  {
   "cell_type": "code",
   "execution_count": null,
   "metadata": {},
   "outputs": [],
   "source": []
  }
 ],
 "metadata": {
  "kernelspec": {
   "display_name": "Python 3",
   "language": "python",
   "name": "python3"
  },
  "language_info": {
   "codemirror_mode": {
    "name": "ipython",
    "version": 3
   },
   "file_extension": ".py",
   "mimetype": "text/x-python",
   "name": "python",
   "nbconvert_exporter": "python",
   "pygments_lexer": "ipython3",
   "version": "3.7.5rc1"
  }
 },
 "nbformat": 4,
 "nbformat_minor": 2
}
