{
 "cells": [
  {
   "cell_type": "code",
   "execution_count": 1,
   "metadata": {
    "scrolled": true
   },
   "outputs": [
    {
     "data": {
      "text/plain": [
       "<Figure size 640x480 with 1 Axes>"
      ]
     },
     "metadata": {},
     "output_type": "display_data"
    }
   ],
   "source": [
    "import matplotlib.pyplot as plt\n",
    "import csv\n",
    "from matplotlib.pyplot import figure\n",
    "\n",
    "\n",
    "# 5.3 Task 1\n",
    "BlockSize = []\n",
    "MatrixCalcDur = []\n",
    "\n",
    "with open('5_3_01_benchmark_2048.txt','r') as csvfile:\n",
    "    reader = csv.reader(csvfile, delimiter=',')\n",
    "    next(reader, None) \n",
    "    for row in reader:\n",
    "        BlockSize.append(int(row[1]))\n",
    "        MatrixCalcDur.append(float(row[5]))\n",
    "        \n",
    "plt.plot(BlockSize, MatrixCalcDur, label='Matrix Calculation Time')\n",
    "\n",
    "plt.xlabel('Block Size')\n",
    "plt.ylabel('Time [ms]')\n",
    "plt.title('Exc 5.3 Task 1 with Matrix Size = 2048')\n",
    "plt.legend()\n",
    "plt.savefig(\"5_3_01_2048.png\")\n",
    "plt.show()"
   ]
  },
  {
   "cell_type": "code",
   "execution_count": 5,
   "metadata": {},
   "outputs": [
    {
     "data": {
      "text/plain": [
       "<Figure size 432x288 with 0 Axes>"
      ]
     },
     "metadata": {},
     "output_type": "display_data"
    }
   ],
   "source": [
    "plt.clf()"
   ]
  },
  {
   "cell_type": "code",
   "execution_count": null,
   "metadata": {},
   "outputs": [],
   "source": []
  }
 ],
 "metadata": {
  "kernelspec": {
   "display_name": "Python 3",
   "language": "python",
   "name": "python3"
  },
  "language_info": {
   "codemirror_mode": {
    "name": "ipython",
    "version": 3
   },
   "file_extension": ".py",
   "mimetype": "text/x-python",
   "name": "python",
   "nbconvert_exporter": "python",
   "pygments_lexer": "ipython3",
   "version": "3.7.5rc1"
  }
 },
 "nbformat": 4,
 "nbformat_minor": 2
}
