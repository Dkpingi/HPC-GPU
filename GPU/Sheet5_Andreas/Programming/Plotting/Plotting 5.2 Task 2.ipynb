{
 "cells": [
  {
   "cell_type": "code",
   "execution_count": 1,
   "metadata": {
    "scrolled": true
   },
   "outputs": [
    {
     "data": {
      "text/plain": [
       "<Figure size 640x480 with 1 Axes>"
      ]
     },
     "metadata": {},
     "output_type": "display_data"
    }
   ],
   "source": [
    "import matplotlib.pyplot as plt\n",
    "import csv\n",
    "from matplotlib.pyplot import figure\n",
    "\n",
    "\n",
    "# 5.2 Task 2\n",
    "MatrixSize = []\n",
    "H2D = []\n",
    "D2H = []\n",
    "MatrixCalcDur = []\n",
    "OverallRuntime = []\n",
    "CPUTime = []\n",
    "with open('5_2_02_benchmark.txt','r') as csvfile:\n",
    "    reader = csv.reader(csvfile, delimiter=',')\n",
    "    next(reader, None) \n",
    "    for row in reader:\n",
    "        MatrixSize.append(int(row[0]))\n",
    "        H2D.append(float(row[2]))\n",
    "        D2H.append(float(row[3]))\n",
    "        MatrixCalcDur.append(float(row[5]))\n",
    "        OverallRuntime.append(float(row[2]) + float(row[3]) + float(row[5]))\n",
    "        CPUTime.append(float(row[7]))\n",
    "        \n",
    "plt.plot(MatrixSize, H2D, label='H2D')\n",
    "plt.plot(MatrixSize, D2H, label='D2H')\n",
    "plt.plot(MatrixSize, MatrixCalcDur, label='Matrix Calculation Time')\n",
    "plt.plot(MatrixSize, OverallRuntime, label='Overall time')\n",
    "plt.plot(MatrixSize, CPUTime, label='CPU Time')\n",
    "\n",
    "\n",
    "plt.xlabel('Matrix Size')\n",
    "plt.ylabel('Time [ms]')\n",
    "plt.title('Exc 5.2 Task 2 with Block Size = 16')\n",
    "plt.legend()\n",
    "plt.savefig(\"5_2_02.png\")\n",
    "plt.show()"
   ]
  },
  {
   "cell_type": "code",
   "execution_count": 4,
   "metadata": {},
   "outputs": [
    {
     "data": {
      "text/plain": [
       "<Figure size 432x288 with 0 Axes>"
      ]
     },
     "metadata": {},
     "output_type": "display_data"
    }
   ],
   "source": [
    "plt.clf()"
   ]
  },
  {
   "cell_type": "code",
   "execution_count": null,
   "metadata": {},
   "outputs": [],
   "source": []
  }
 ],
 "metadata": {
  "kernelspec": {
   "display_name": "Python 3",
   "language": "python",
   "name": "python3"
  },
  "language_info": {
   "codemirror_mode": {
    "name": "ipython",
    "version": 3
   },
   "file_extension": ".py",
   "mimetype": "text/x-python",
   "name": "python",
   "nbconvert_exporter": "python",
   "pygments_lexer": "ipython3",
   "version": "3.7.5rc1"
  }
 },
 "nbformat": 4,
 "nbformat_minor": 2
}
